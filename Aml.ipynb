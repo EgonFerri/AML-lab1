{
 "cells": [
  {
   "cell_type": "code",
   "execution_count": null,
   "metadata": {},
   "outputs": [],
   "source": [
    "import numpy as np\n",
    "from numpy import histogram as hist\n",
    "\n",
    "\n",
    "\n",
    "#Add the Filtering folder, to import the gauss_module.py file, where gaussderiv is defined (needed for dxdy_hist)\n",
    "import sys, os, inspect\n",
    "currentdir = os.path.dirname(os.path.abspath(inspect.getfile(inspect.currentframe())))\n",
    "parentdir = os.path.dirname(currentdir)\n",
    "filteringpath = os.path.join(parentdir, 'Filtering')\n",
    "sys.path.insert(0,filteringpath)\n",
    "import gauss_module\n",
    "\n",
    "\n",
    "\n",
    "#  compute histogram of image intensities, histogram should be normalized so that sum of all values equals 1\n",
    "#  assume that image intensity varies between 0 and 255\n",
    "#\n",
    "#  img_gray - input image in grayscale format\n",
    "#  num_bins - number of bins in the histogram\n",
    "def normalized_hist(img_gray, num_bins):\n",
    "    assert len(img_gray.shape) == 2, 'image dimension mismatch'\n",
    "    assert img_gray.dtype == 'float', 'incorrect image type'\n",
    "\n",
    "\n",
    "    print(img_gray)\n",
    "\n",
    "\n",
    "    return hists, bins\n",
    "\n",
    "\n",
    "\n",
    "#  Compute the *joint* histogram for each color channel in the image\n",
    "#  The histogram should be normalized so that sum of all values equals 1\n",
    "#  Assume that values in each channel vary between 0 and 255\n",
    "#\n",
    "#  img_color - input color image\n",
    "#  num_bins - number of bins used to discretize each channel, total number of bins in the histogram should be num_bins^3\n",
    "#\n",
    "#  E.g. hists[0,9,5] contains the number of image_color pixels such that:\n",
    "#       - their R values fall in bin 0\n",
    "#       - their G values fall in bin 9\n",
    "#       - their B values fall in bin 5\n",
    "def rgb_hist(img_color_double, num_bins):\n",
    "    assert len(img_color_double.shape) == 3, 'image dimension mismatch'\n",
    "    assert img_color_double.dtype == 'float', 'incorrect image type'\n",
    "\n",
    "\n",
    "    #... (your code here)\n",
    "\n",
    "\n",
    "    #Define a 3D histogram  with \"num_bins^3\" number of entries\n",
    "    hists = np.zeros((num_bins, num_bins, num_bins))\n",
    "    \n",
    "    # Loop for each pixel i in the image \n",
    "    for i in range(img_color_double.shape[0]*img_color_double.shape[1]):\n",
    "        # Increment the histogram bin which corresponds to the R,G,B value of the pixel i\n",
    "        \n",
    "        #... (your code here)\n",
    "        pass\n",
    "\n",
    "\n",
    "    #Normalize the histogram such that its integral (sum) is equal 1\n",
    "    #... (your code here)\n",
    "\n",
    "    #Return the histogram as a 1D vector\n",
    "    hists = hists.reshape(hists.size)\n",
    "    return hists\n",
    "\n",
    "\n",
    "\n",
    "#  Compute the *joint* histogram for the R and G color channels in the image\n",
    "#  The histogram should be normalized so that sum of all values equals 1\n",
    "#  Assume that values in each channel vary between 0 and 255\n",
    "#\n",
    "#  img_color - input color image\n",
    "#  num_bins - number of bins used to discretize each channel, total number of bins in the histogram should be num_bins^2\n",
    "#\n",
    "#  E.g. hists[0,9] contains the number of image_color pixels such that:\n",
    "#       - their R values fall in bin 0\n",
    "#       - their G values fall in bin 9\n",
    "def rg_hist(img_color_double, num_bins):\n",
    "    assert len(img_color_double.shape) == 3, 'image dimension mismatch'\n",
    "    assert img_color_double.dtype == 'float', 'incorrect image type'\n",
    "\n",
    "\n",
    "    #... (your code here)\n",
    "\n",
    "\n",
    "    #Define a 2D histogram  with \"num_bins^2\" number of entries\n",
    "    hists = np.zeros((num_bins, num_bins))\n",
    "    \n",
    "    \n",
    "    #... (your code here)\n",
    "\n",
    "\n",
    "    #Return the histogram as a 1D vector\n",
    "    hists = hists.reshape(hists.size)\n",
    "\n",
    "    return hists\n",
    "\n",
    "\n",
    "\n",
    "\n",
    "#  Compute the *joint* histogram of Gaussian partial derivatives of the image in x and y direction\n",
    "#  Set sigma to 3.0 and cap the range of derivative values is in the range [-6, 6]\n",
    "#  The histogram should be normalized so that sum of all values equals 1\n",
    "#\n",
    "#  img_gray - input gray value image\n",
    "#  num_bins - number of bins used to discretize each dimension, total number of bins in the histogram should be num_bins^2\n",
    "#\n",
    "#  Note: you may use the function gaussderiv from the Filtering exercise (gauss_module.py)\n",
    "def dxdy_hist(img_gray, num_bins):\n",
    "    assert len(img_gray.shape) == 2, 'image dimension mismatch'\n",
    "    assert img_gray.dtype == 'float', 'incorrect image type'\n",
    "\n",
    "\n",
    "    #... (your code here)\n",
    "\n",
    "\n",
    "    #Define a 2D histogram  with \"num_bins^2\" number of entries\n",
    "    hists = np.zeros((num_bins, num_bins))\n",
    "\n",
    "\n",
    "    #... (your code here)\n",
    "\n",
    "\n",
    "    #Return the histogram as a 1D vector\n",
    "    hists = hists.reshape(hists.size)\n",
    "    return hists\n",
    "\n",
    "\n",
    "\n",
    "def is_grayvalue_hist(hist_name):\n",
    "  if hist_name == 'grayvalue' or hist_name == 'dxdy':\n",
    "    return True\n",
    "  elif hist_name == 'rgb' or hist_name == 'rg':\n",
    "    return False\n",
    "  else:\n",
    "    assert False, 'unknown histogram type'\n",
    "\n",
    "\n",
    "def get_hist_by_name(img, num_bins_gray, hist_name):\n",
    "  if hist_name == 'grayvalue':\n",
    "    return normalized_hist(img, num_bins_gray)\n",
    "  elif hist_name == 'rgb':\n",
    "    return rgb_hist(img, num_bins_gray)\n",
    "  elif hist_name == 'rg':\n",
    "    return rg_hist(img, num_bins_gray)\n",
    "  elif hist_name == 'dxdy':\n",
    "    return dxdy_hist(img, num_bins_gray)\n",
    "  else:\n",
    "    assert False, 'unknown distance: %s'%hist_name\n",
    "\n"
   ]
  },
  {
   "cell_type": "code",
   "execution_count": 127,
   "metadata": {},
   "outputs": [
    {
     "data": {
      "text/plain": [
       "<matplotlib.image.AxesImage at 0x19468468c88>"
      ]
     },
     "execution_count": 127,
     "metadata": {},
     "output_type": "execute_result"
    },
    {
     "data": {
      "image/png": "[encoded data removed]",
      "text/plain": [
       "<Figure size 432x288 with 1 Axes>"
      ]
     },
     "metadata": {
      "needs_background": "light"
     },
     "output_type": "display_data"
    }
   ],
   "source": [
    "import numpy as np\n",
    "from numpy import histogram as hist\n",
    "import imageio\n",
    "import matplotlib.pyplot as plt\n",
    "\n",
    "path = r\"C:\\Users\\RE-Giorgio\\AML-lab1\\Assignment\\Identification\\query\"\n",
    "img = imageio.imread(path + r\"\\obj1__40.png\")\n",
    "plt.imshow(img)"
   ]
  },
  {
   "cell_type": "code",
   "execution_count": 128,
   "metadata": {},
   "outputs": [
    {
     "name": "stdout",
     "output_type": "stream",
     "text": [
      "[34788  4985  1311  1503  1302  1157  1342  1656   891   217]\n",
      "[  0.   25.3  50.6  75.9 101.2 126.5 151.8 177.1 202.4 227.7 253. ]\n"
     ]
    }
   ],
   "source": [
    "hist_, bins = hist(img, 10)\n",
    "print(hist_)\n",
    "print(bins)\n",
    "#plt.hist(img, bins = bins)"
   ]
  },
  {
   "cell_type": "code",
   "execution_count": 124,
   "metadata": {},
   "outputs": [],
   "source": [
    "def normalized_hist(img_gray, num_bins):\n",
    "    assert len(img_gray.shape) == 2, 'image dimension mismatch'\n",
    "    assert img_gray.dtype == 'float', 'incorrect image type'\n",
    "\n",
    "    import numpy as np\n",
    "    \n",
    "    flattened = [pix for dim in img_gray for pix in dim]\n",
    "    min_interval = 0\n",
    "    max_interval = 255\n",
    "    \n",
    "    bin_size = max_interval/num_bins\n",
    "    bin_hist = {0:0}\n",
    "    \n",
    "    previous = 0\n",
    "    for i in range(num_bins):\n",
    "        bin_ = previous + bin_size\n",
    "        bin_hist[bin_] = 0\n",
    "        previous = bin_\n",
    "\n",
    "    \n",
    "    for pix in flattened:\n",
    "        for bin_ in bin_hist:\n",
    "            if bin_ - bin_size <= pix < bin_:\n",
    "                bin_hist[bin_-bin_size] += 1\n",
    "\n",
    "    hists = list(bin_hist.values())\n",
    "    hists.pop()\n",
    "    bins = list(bin_hist.keys())\n",
    "    return [hists/np.sum(hists)], bins"
   ]
  },
  {
   "cell_type": "code",
   "execution_count": 125,
   "metadata": {},
   "outputs": [
    {
     "data": {
      "text/plain": [
       "([array([0.16461961, 0.38525757, 0.14917207, 0.02476291, 0.03780803,\n",
       "         0.04858888, 0.05773008, 0.06524964, 0.05955591, 0.0072553 ])],\n",
       " [0, 25.5, 51.0, 76.5, 102.0, 127.5, 153.0, 178.5, 204.0, 229.5, 255.0])"
      ]
     },
     "execution_count": 125,
     "metadata": {},
     "output_type": "execute_result"
    }
   ],
   "source": [
    "normalized_hist(np.array(img, \"float\"), 10)"
   ]
  }
 ],
 "metadata": {
  "kernelspec": {
   "display_name": "Python 3",
   "language": "python",
   "name": "python3"
  },
  "language_info": {
   "codemirror_mode": {
    "name": "ipython",
    "version": 3
   },
   "file_extension": ".py",
   "mimetype": "text/x-python",
   "name": "python",
   "nbconvert_exporter": "python",
   "pygments_lexer": "ipython3",
   "version": "3.7.1"
  }
 },
 "nbformat": 4,
 "nbformat_minor": 2
}
